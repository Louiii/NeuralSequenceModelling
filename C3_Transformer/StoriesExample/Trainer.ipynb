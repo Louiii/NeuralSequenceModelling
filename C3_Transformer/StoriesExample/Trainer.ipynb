{
 "cells": [
  {
   "cell_type": "markdown",
   "metadata": {},
   "source": [
    "# Model Trainer\n",
    "\n"
   ]
  },
  {
   "cell_type": "code",
   "execution_count": 4,
   "metadata": {},
   "outputs": [],
   "source": [
    "import torch, torch.nn as nn, torch.optim as optim, torch.utils.data import Dataset\n",
    "from ParameterPartitioner import multiple_partition, apply_init, optim_groups\n",
    "from Model import TransformerModel\n",
    "\n",
    "ntoken = 10\n",
    "ninp = 8\n",
    "nhead = 4\n",
    "nhid = 7\n",
    "nlayers = 2\n",
    "dropout = 0.1\n",
    "\n",
    "model = TransformerModel(ntoken, ninp, nhead, nhid, nlayers, dropout)\n",
    "# print([pn for pn, p in model.named_modules()])"
   ]
  },
  {
   "cell_type": "markdown",
   "metadata": {},
   "source": [
    "#### Initialise the model parameters"
   ]
  },
  {
   "cell_type": "code",
   "execution_count": 5,
   "metadata": {},
   "outputs": [],
   "source": [
    "# print([str(m).split('(')[0] for m in model.modules()])\n",
    "\n",
    "weight_kwargs = {'Embedding': (nn.init.normal_, [], {'mean':0, 'std':0.02}),\n",
    "                 'Linear':    (nn.init.normal_, [], {'mean':0, 'std':0.02}),\n",
    "                 'LayerNorm': (nn.init.constant_, [1], {})}\n",
    "bias_kwargs =   {'Default':   (nn.init.constant_, [0], {})}\n",
    "apply_initialisation(model, (weight_kwargs, bias_kwargs))#, pr=True"
   ]
  },
  {
   "cell_type": "markdown",
   "metadata": {},
   "source": [
    "#### Give parameters different optimisers"
   ]
  },
  {
   "cell_type": "code",
   "execution_count": 6,
   "metadata": {},
   "outputs": [],
   "source": [
    "lr = 3e-4\n",
    "betas = (0.9, 0.95)\n",
    "conditions = ['weight', 'linear']\n",
    "combine = {'linear weights':[[1,1]], 'other':None}\n",
    "typ_opt_kwargs = {'linear weights': {\"weight_decay\": 0.1},\n",
    "                  'other': {\"weight_decay\": 0.0}}\n",
    "\n",
    "partition = multiple_partition(model, conditions, comb=combine)\n",
    "opt_groups = optimisation_groups(model, partition, typ_opt_kwargs)\n",
    "\n",
    "# for k, v in partition.items(): print('\\n'+k+'\\n%s'%v)\n",
    "optimiser = torch.optim.AdamW(opt_groups, lr=lr, betas=betas)"
   ]
  },
  {
   "cell_type": "markdown",
   "metadata": {},
   "source": [
    "## Load the data\n",
    "\n",
    "Make it into a generator"
   ]
  },
  {
   "cell_type": "code",
   "execution_count": null,
   "metadata": {},
   "outputs": [],
   "source": [
    "'''\n",
    "arrange data and targets so that the first i elements of x\n",
    "will be asked to predict the i-th element of y. Notice that\n",
    "the eventual language model will actually make block_size\n",
    "individual predictions at the same time based on this data,\n",
    "so we are being clever and amortizing the cost of the forward\n",
    "pass of the network. So for example if block_size is 4, then\n",
    "we could e.g. sample a chunk of text \"hello\", the integers in\n",
    "x will correspond to \"hell\" and in y will be \"ello\". This will\n",
    "then actually \"multitask\" 4 separate examples at the same time\n",
    "in the language model:\n",
    "- given just \"h\", please predict \"e\" as next\n",
    "- given \"he\" please predict \"l\" next\n",
    "- given \"hel\" predict \"l\" next\n",
    "- given \"hell\" predict \"o\" next\n",
    "\n",
    "In addition, because the DataLoader will create batches of examples,\n",
    "every forward/backward pass during traning will simultaneously train\n",
    "a LOT of predictions, amortizing a lot of computation. In particular,\n",
    "for a batched input of integers X (B, T) where B is batch size and\n",
    "T is block_size and Y (B, T), the network will during training be\n",
    "simultaneously training to make B*T predictions, all at once! Of course,\n",
    "at test time we can paralellize across batch B, but unlike during training\n",
    "we cannot parallelize across the time dimension T - we have to run\n",
    "a forward pass of the network to recover the next single character of the \n",
    "sequence along each batch dimension, and repeatedly always feed in a next\n",
    "character to get the next one.\n",
    "\n",
    "So yes there is a big asymmetry between train/test time of autoregressive\n",
    "models. During training we can go B*T at a time with every forward pass,\n",
    "but during test time we can only go B at a time, T times, with T forward \n",
    "passes.\n",
    "'''\n",
    "class CharDataset(Dataset):\n",
    "    def __init__(self, data, block_size):\n",
    "        chars = sorted(list(set(data)))\n",
    "        data_size, vocab_size = len(data), len(chars)\n",
    "        print('data has %d characters, %d unique.' % (data_size, vocab_size))\n",
    "        \n",
    "        self.s2i = { ch:i for i,ch in enumerate(chars) }\n",
    "        self.i2s = { i:ch for i,ch in enumerate(chars) }\n",
    "        self.block_size = block_size\n",
    "        self.vocab_size = vocab_size\n",
    "        self.data = data\n",
    "    \n",
    "    def __len__(self):\n",
    "        return len(self.data) - self.block_size\n",
    "\n",
    "    def __getitem__(self, i):\n",
    "        chunk = self.data[i:i + self.block_size + 1]\n",
    "        dix = [self.s2i[s] for s in chunk]\n",
    "        x = torch.tensor(dix[:-1], dtype=torch.long)\n",
    "        y = torch.tensor(dix[1:], dtype=torch.long)\n",
    "        return x, y\n",
    "\n",
    "# DataLoader with better default settings\n",
    "loader = DataLoader(data, shuffle=True, pin_memory=True,\n",
    "                    batch_size=batch_size, num_workers=workers)\n",
    "\n",
    "parallel = torch.cuda.is_available()\n",
    "device = 'cpu'\n",
    "if parallel:\n",
    "    device = torch.cuda.current_device()\n",
    "#     model = torch.nn.DataParallel(model).to(device)\n",
    "    model = torch.nn.DistributedParallel(model).to(device)"
   ]
  },
  {
   "cell_type": "markdown",
   "metadata": {},
   "source": [
    "## Train the model\n",
    "\n",
    "model.train() tells your model that you are training the model. So effectively layers like dropout, batchnorm etc. which behave different on the train and test procedures know what is going on and hence can behave accordingly.\n",
    "\n",
    "More details: It sets the mode to train (see source code). You can call either"
   ]
  },
  {
   "cell_type": "code",
   "execution_count": 7,
   "metadata": {},
   "outputs": [
    {
     "data": {
      "text/plain": [
       "TransformerModel(\n",
       "  (pos_encoder): PositionalEncoding(\n",
       "    (dropout): Dropout(p=0.1, inplace=False)\n",
       "  )\n",
       "  (transformer_encoder): TransformerEncoder(\n",
       "    (layers): ModuleList(\n",
       "      (0): TransformerEncoderLayer(\n",
       "        (self_attn): MultiheadAttention(\n",
       "          (out_proj): Linear(in_features=8, out_features=8, bias=True)\n",
       "        )\n",
       "        (linear1): Linear(in_features=8, out_features=7, bias=True)\n",
       "        (dropout): Dropout(p=0.1, inplace=False)\n",
       "        (linear2): Linear(in_features=7, out_features=8, bias=True)\n",
       "        (norm1): LayerNorm((8,), eps=1e-05, elementwise_affine=True)\n",
       "        (norm2): LayerNorm((8,), eps=1e-05, elementwise_affine=True)\n",
       "        (dropout1): Dropout(p=0.1, inplace=False)\n",
       "        (dropout2): Dropout(p=0.1, inplace=False)\n",
       "      )\n",
       "      (1): TransformerEncoderLayer(\n",
       "        (self_attn): MultiheadAttention(\n",
       "          (out_proj): Linear(in_features=8, out_features=8, bias=True)\n",
       "        )\n",
       "        (linear1): Linear(in_features=8, out_features=7, bias=True)\n",
       "        (dropout): Dropout(p=0.1, inplace=False)\n",
       "        (linear2): Linear(in_features=7, out_features=8, bias=True)\n",
       "        (norm1): LayerNorm((8,), eps=1e-05, elementwise_affine=True)\n",
       "        (norm2): LayerNorm((8,), eps=1e-05, elementwise_affine=True)\n",
       "        (dropout1): Dropout(p=0.1, inplace=False)\n",
       "        (dropout2): Dropout(p=0.1, inplace=False)\n",
       "      )\n",
       "    )\n",
       "  )\n",
       "  (encoder): Embedding(10, 8)\n",
       "  (decoder): Linear(in_features=8, out_features=10, bias=True)\n",
       ")"
      ]
     },
     "execution_count": 7,
     "metadata": {},
     "output_type": "execute_result"
    }
   ],
   "source": [
    "model.train() \n",
    "\n",
    "for p in model.parameters(): p.grad = None"
   ]
  },
  {
   "cell_type": "code",
   "execution_count": null,
   "metadata": {},
   "outputs": [],
   "source": [
    "model.eval()"
   ]
  }
 ],
 "metadata": {
  "kernelspec": {
   "display_name": "Python 3",
   "language": "python",
   "name": "python3"
  },
  "language_info": {
   "codemirror_mode": {
    "name": "ipython",
    "version": 3
   },
   "file_extension": ".py",
   "mimetype": "text/x-python",
   "name": "python",
   "nbconvert_exporter": "python",
   "pygments_lexer": "ipython3",
   "version": "3.6.8"
  }
 },
 "nbformat": 4,
 "nbformat_minor": 4
}
